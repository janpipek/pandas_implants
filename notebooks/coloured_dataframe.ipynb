{
 "cells": [
  {
   "cell_type": "markdown",
   "metadata": {},
   "source": [
    "# Coloured DataFrame\n",
    "\n",
    "Example of inheriting from pandas DataFrame"
   ]
  },
  {
   "cell_type": "code",
   "execution_count": 1,
   "metadata": {},
   "outputs": [],
   "source": [
    "import pandas as pd\n",
    "import numpy as np"
   ]
  },
  {
   "cell_type": "code",
   "execution_count": 19,
   "metadata": {},
   "outputs": [],
   "source": [
    "class ColouredDataFrame(pd.DataFrame):\n",
    "    \"\"\"Class with coloured header.\"\"\"\n",
    "    def __init__(self, *args, colour=\"white\", **kwargs):\n",
    "        self.colour = colour\n",
    "        super(ColouredDataFrame, self).__init__(*args, **kwargs)\n",
    "        \n",
    "    _metadata = ['colour']\n",
    "    \n",
    "    @property\n",
    "    def style_props(self):\n",
    "        \"\"\"Custom CSS values for this table.\"\"\"\n",
    "        return [\n",
    "            {'selector': 'thead th',\n",
    "             'props': [('background-color', self.colour)]}]\n",
    "        \n",
    "    def _repr_html_(self):\n",
    "        \"\"\"Used among others in Jupyter notebook.\"\"\"\n",
    "        return self.style.set_table_styles(\n",
    "            self.style_props).render()\n",
    "    \n",
    "    # def to_html(self, *args, **kwargs):\n",
    "    #   You might want to set this too\n",
    "    \n",
    "    @property\n",
    "    def _constructor(self):        \n",
    "        return ColouredDataFrame\n",
    "    \n",
    "    # If you want to subclass Series too:   \n",
    "    # @property\n",
    "    # def _constructor_sliced(self)\n",
    "    \n",
    "    def set_colour(self, colour):\n",
    "        copy = self.copy()\n",
    "        copy.colour = colour\n",
    "        return copy"
   ]
  },
  {
   "cell_type": "code",
   "execution_count": 20,
   "metadata": {},
   "outputs": [
    {
     "data": {
      "text/html": [
       "<style  type=\"text/css\" >\n",
       "    #T_46276f0c_4676_11ea_b939_f83441d5a916 thead th {\n",
       "          background-color: gold;\n",
       "    }</style><table id=\"T_46276f0c_4676_11ea_b939_f83441d5a916\" ><thead>    <tr>        <th class=\"blank level0\" ></th>        <th class=\"col_heading level0 col0\" >alpha</th>        <th class=\"col_heading level0 col1\" >beta</th>        <th class=\"col_heading level0 col2\" >gamma</th>        <th class=\"col_heading level0 col3\" >delta</th>    </tr></thead><tbody>\n",
       "                <tr>\n",
       "                        <th id=\"T_46276f0c_4676_11ea_b939_f83441d5a916level0_row0\" class=\"row_heading level0 row0\" >0</th>\n",
       "                        <td id=\"T_46276f0c_4676_11ea_b939_f83441d5a916row0_col0\" class=\"data row0 col0\" >0.878496</td>\n",
       "                        <td id=\"T_46276f0c_4676_11ea_b939_f83441d5a916row0_col1\" class=\"data row0 col1\" >0.603695</td>\n",
       "                        <td id=\"T_46276f0c_4676_11ea_b939_f83441d5a916row0_col2\" class=\"data row0 col2\" >0.952570</td>\n",
       "                        <td id=\"T_46276f0c_4676_11ea_b939_f83441d5a916row0_col3\" class=\"data row0 col3\" >0.953663</td>\n",
       "            </tr>\n",
       "            <tr>\n",
       "                        <th id=\"T_46276f0c_4676_11ea_b939_f83441d5a916level0_row1\" class=\"row_heading level0 row1\" >1</th>\n",
       "                        <td id=\"T_46276f0c_4676_11ea_b939_f83441d5a916row1_col0\" class=\"data row1 col0\" >0.559060</td>\n",
       "                        <td id=\"T_46276f0c_4676_11ea_b939_f83441d5a916row1_col1\" class=\"data row1 col1\" >0.363756</td>\n",
       "                        <td id=\"T_46276f0c_4676_11ea_b939_f83441d5a916row1_col2\" class=\"data row1 col2\" >0.906232</td>\n",
       "                        <td id=\"T_46276f0c_4676_11ea_b939_f83441d5a916row1_col3\" class=\"data row1 col3\" >0.711642</td>\n",
       "            </tr>\n",
       "            <tr>\n",
       "                        <th id=\"T_46276f0c_4676_11ea_b939_f83441d5a916level0_row2\" class=\"row_heading level0 row2\" >2</th>\n",
       "                        <td id=\"T_46276f0c_4676_11ea_b939_f83441d5a916row2_col0\" class=\"data row2 col0\" >0.438184</td>\n",
       "                        <td id=\"T_46276f0c_4676_11ea_b939_f83441d5a916row2_col1\" class=\"data row2 col1\" >0.865263</td>\n",
       "                        <td id=\"T_46276f0c_4676_11ea_b939_f83441d5a916row2_col2\" class=\"data row2 col2\" >0.103786</td>\n",
       "                        <td id=\"T_46276f0c_4676_11ea_b939_f83441d5a916row2_col3\" class=\"data row2 col3\" >0.834384</td>\n",
       "            </tr>\n",
       "    </tbody></table>"
      ],
      "text/plain": [
       "      alpha      beta     gamma     delta\n",
       "0  0.878496  0.603695  0.952570  0.953663\n",
       "1  0.559060  0.363756  0.906232  0.711642\n",
       "2  0.438184  0.865263  0.103786  0.834384"
      ]
     },
     "execution_count": 20,
     "metadata": {},
     "output_type": "execute_result"
    }
   ],
   "source": [
    "df = ColouredDataFrame({\n",
    "    \"alpha\": pd.Series(np.random.random(3)),\n",
    "    \"beta\": pd.Series(np.random.random(3)),\n",
    "    \"gamma\": pd.Series(np.random.random(3)),\n",
    "    \"delta\": pd.Series(np.random.random(3)),\n",
    "},\n",
    "    colour = \"gold\"\n",
    ")\n",
    "df"
   ]
  },
  {
   "cell_type": "code",
   "execution_count": 21,
   "metadata": {},
   "outputs": [
    {
     "data": {
      "text/html": [
       "<style  type=\"text/css\" >\n",
       "    #T_46703edc_4676_11ea_bffa_f83441d5a916 thead th {\n",
       "          background-color: orange;\n",
       "    }</style><table id=\"T_46703edc_4676_11ea_bffa_f83441d5a916\" ><thead>    <tr>        <th class=\"blank level0\" ></th>        <th class=\"col_heading level0 col0\" >alpha</th>        <th class=\"col_heading level0 col1\" >beta</th>        <th class=\"col_heading level0 col2\" >gamma</th>        <th class=\"col_heading level0 col3\" >delta</th>    </tr></thead><tbody>\n",
       "                <tr>\n",
       "                        <th id=\"T_46703edc_4676_11ea_bffa_f83441d5a916level0_row0\" class=\"row_heading level0 row0\" >0</th>\n",
       "                        <td id=\"T_46703edc_4676_11ea_bffa_f83441d5a916row0_col0\" class=\"data row0 col0\" >0.878496</td>\n",
       "                        <td id=\"T_46703edc_4676_11ea_bffa_f83441d5a916row0_col1\" class=\"data row0 col1\" >0.603695</td>\n",
       "                        <td id=\"T_46703edc_4676_11ea_bffa_f83441d5a916row0_col2\" class=\"data row0 col2\" >0.952570</td>\n",
       "                        <td id=\"T_46703edc_4676_11ea_bffa_f83441d5a916row0_col3\" class=\"data row0 col3\" >0.953663</td>\n",
       "            </tr>\n",
       "            <tr>\n",
       "                        <th id=\"T_46703edc_4676_11ea_bffa_f83441d5a916level0_row1\" class=\"row_heading level0 row1\" >1</th>\n",
       "                        <td id=\"T_46703edc_4676_11ea_bffa_f83441d5a916row1_col0\" class=\"data row1 col0\" >0.559060</td>\n",
       "                        <td id=\"T_46703edc_4676_11ea_bffa_f83441d5a916row1_col1\" class=\"data row1 col1\" >0.363756</td>\n",
       "                        <td id=\"T_46703edc_4676_11ea_bffa_f83441d5a916row1_col2\" class=\"data row1 col2\" >0.906232</td>\n",
       "                        <td id=\"T_46703edc_4676_11ea_bffa_f83441d5a916row1_col3\" class=\"data row1 col3\" >0.711642</td>\n",
       "            </tr>\n",
       "            <tr>\n",
       "                        <th id=\"T_46703edc_4676_11ea_bffa_f83441d5a916level0_row2\" class=\"row_heading level0 row2\" >2</th>\n",
       "                        <td id=\"T_46703edc_4676_11ea_bffa_f83441d5a916row2_col0\" class=\"data row2 col0\" >0.438184</td>\n",
       "                        <td id=\"T_46703edc_4676_11ea_bffa_f83441d5a916row2_col1\" class=\"data row2 col1\" >0.865263</td>\n",
       "                        <td id=\"T_46703edc_4676_11ea_bffa_f83441d5a916row2_col2\" class=\"data row2 col2\" >0.103786</td>\n",
       "                        <td id=\"T_46703edc_4676_11ea_bffa_f83441d5a916row2_col3\" class=\"data row2 col3\" >0.834384</td>\n",
       "            </tr>\n",
       "    </tbody></table>"
      ],
      "text/plain": [
       "      alpha      beta     gamma     delta\n",
       "0  0.878496  0.603695  0.952570  0.953663\n",
       "1  0.559060  0.363756  0.906232  0.711642\n",
       "2  0.438184  0.865263  0.103786  0.834384"
      ]
     },
     "execution_count": 21,
     "metadata": {},
     "output_type": "execute_result"
    }
   ],
   "source": [
    "df.set_colour(\"orange\")"
   ]
  },
  {
   "cell_type": "code",
   "execution_count": 22,
   "metadata": {},
   "outputs": [
    {
     "data": {
      "text/html": [
       "<style  type=\"text/css\" >\n",
       "    #T_46b38fe8_4676_11ea_9a73_f83441d5a916 thead th {\n",
       "          background-color: #8f8;\n",
       "    }</style><table id=\"T_46b38fe8_4676_11ea_9a73_f83441d5a916\" ><thead>    <tr>        <th class=\"blank level0\" ></th>        <th class=\"col_heading level0 col0\" >alpha</th>        <th class=\"col_heading level0 col1\" >gamma</th>    </tr></thead><tbody>\n",
       "                <tr>\n",
       "                        <th id=\"T_46b38fe8_4676_11ea_9a73_f83441d5a916level0_row0\" class=\"row_heading level0 row0\" >0</th>\n",
       "                        <td id=\"T_46b38fe8_4676_11ea_9a73_f83441d5a916row0_col0\" class=\"data row0 col0\" >0.878496</td>\n",
       "                        <td id=\"T_46b38fe8_4676_11ea_9a73_f83441d5a916row0_col1\" class=\"data row0 col1\" >0.952570</td>\n",
       "            </tr>\n",
       "            <tr>\n",
       "                        <th id=\"T_46b38fe8_4676_11ea_9a73_f83441d5a916level0_row1\" class=\"row_heading level0 row1\" >1</th>\n",
       "                        <td id=\"T_46b38fe8_4676_11ea_9a73_f83441d5a916row1_col0\" class=\"data row1 col0\" >0.559060</td>\n",
       "                        <td id=\"T_46b38fe8_4676_11ea_9a73_f83441d5a916row1_col1\" class=\"data row1 col1\" >0.906232</td>\n",
       "            </tr>\n",
       "            <tr>\n",
       "                        <th id=\"T_46b38fe8_4676_11ea_9a73_f83441d5a916level0_row2\" class=\"row_heading level0 row2\" >2</th>\n",
       "                        <td id=\"T_46b38fe8_4676_11ea_9a73_f83441d5a916row2_col0\" class=\"data row2 col0\" >0.438184</td>\n",
       "                        <td id=\"T_46b38fe8_4676_11ea_9a73_f83441d5a916row2_col1\" class=\"data row2 col1\" >0.103786</td>\n",
       "            </tr>\n",
       "    </tbody></table>"
      ],
      "text/plain": [
       "      alpha     gamma\n",
       "0  0.878496  0.952570\n",
       "1  0.559060  0.906232\n",
       "2  0.438184  0.103786"
      ]
     },
     "execution_count": 22,
     "metadata": {},
     "output_type": "execute_result"
    }
   ],
   "source": [
    "df[[\"alpha\", \"gamma\"]].set_colour(\"#8f8\")"
   ]
  },
  {
   "cell_type": "code",
   "execution_count": 23,
   "metadata": {},
   "outputs": [
    {
     "data": {
      "text/html": [
       "<style  type=\"text/css\" >\n",
       "    #T_47007636_4676_11ea_b10e_f83441d5a916 thead th {\n",
       "          background-color: gold;\n",
       "    }</style><table id=\"T_47007636_4676_11ea_b10e_f83441d5a916\" ><thead>    <tr>        <th class=\"blank level0\" ></th>        <th class=\"col_heading level0 col0\" >alpha</th>        <th class=\"col_heading level0 col1\" >beta</th>        <th class=\"col_heading level0 col2\" >gamma</th>        <th class=\"col_heading level0 col3\" >delta</th>        <th class=\"col_heading level0 col4\" >epsilon</th>    </tr></thead><tbody>\n",
       "                <tr>\n",
       "                        <th id=\"T_47007636_4676_11ea_b10e_f83441d5a916level0_row0\" class=\"row_heading level0 row0\" >0</th>\n",
       "                        <td id=\"T_47007636_4676_11ea_b10e_f83441d5a916row0_col0\" class=\"data row0 col0\" >0.878496</td>\n",
       "                        <td id=\"T_47007636_4676_11ea_b10e_f83441d5a916row0_col1\" class=\"data row0 col1\" >0.603695</td>\n",
       "                        <td id=\"T_47007636_4676_11ea_b10e_f83441d5a916row0_col2\" class=\"data row0 col2\" >0.952570</td>\n",
       "                        <td id=\"T_47007636_4676_11ea_b10e_f83441d5a916row0_col3\" class=\"data row0 col3\" >0.953663</td>\n",
       "                        <td id=\"T_47007636_4676_11ea_b10e_f83441d5a916row0_col4\" class=\"data row0 col4\" >0.001000</td>\n",
       "            </tr>\n",
       "            <tr>\n",
       "                        <th id=\"T_47007636_4676_11ea_b10e_f83441d5a916level0_row1\" class=\"row_heading level0 row1\" >1</th>\n",
       "                        <td id=\"T_47007636_4676_11ea_b10e_f83441d5a916row1_col0\" class=\"data row1 col0\" >0.559060</td>\n",
       "                        <td id=\"T_47007636_4676_11ea_b10e_f83441d5a916row1_col1\" class=\"data row1 col1\" >0.363756</td>\n",
       "                        <td id=\"T_47007636_4676_11ea_b10e_f83441d5a916row1_col2\" class=\"data row1 col2\" >0.906232</td>\n",
       "                        <td id=\"T_47007636_4676_11ea_b10e_f83441d5a916row1_col3\" class=\"data row1 col3\" >0.711642</td>\n",
       "                        <td id=\"T_47007636_4676_11ea_b10e_f83441d5a916row1_col4\" class=\"data row1 col4\" >0.001000</td>\n",
       "            </tr>\n",
       "            <tr>\n",
       "                        <th id=\"T_47007636_4676_11ea_b10e_f83441d5a916level0_row2\" class=\"row_heading level0 row2\" >2</th>\n",
       "                        <td id=\"T_47007636_4676_11ea_b10e_f83441d5a916row2_col0\" class=\"data row2 col0\" >0.438184</td>\n",
       "                        <td id=\"T_47007636_4676_11ea_b10e_f83441d5a916row2_col1\" class=\"data row2 col1\" >0.865263</td>\n",
       "                        <td id=\"T_47007636_4676_11ea_b10e_f83441d5a916row2_col2\" class=\"data row2 col2\" >0.103786</td>\n",
       "                        <td id=\"T_47007636_4676_11ea_b10e_f83441d5a916row2_col3\" class=\"data row2 col3\" >0.834384</td>\n",
       "                        <td id=\"T_47007636_4676_11ea_b10e_f83441d5a916row2_col4\" class=\"data row2 col4\" >0.001000</td>\n",
       "            </tr>\n",
       "    </tbody></table>"
      ],
      "text/plain": [
       "      alpha      beta     gamma     delta  epsilon\n",
       "0  0.878496  0.603695  0.952570  0.953663    0.001\n",
       "1  0.559060  0.363756  0.906232  0.711642    0.001\n",
       "2  0.438184  0.865263  0.103786  0.834384    0.001"
      ]
     },
     "execution_count": 23,
     "metadata": {},
     "output_type": "execute_result"
    }
   ],
   "source": [
    "new_df = df.assign(epsilon=0.001)\n",
    "new_df"
   ]
  },
  {
   "cell_type": "markdown",
   "metadata": {},
   "source": [
    "The following does not work and resets to default - a different dataframe."
   ]
  },
  {
   "cell_type": "code",
   "execution_count": 27,
   "metadata": {},
   "outputs": [
    {
     "data": {
      "text/html": [
       "<style  type=\"text/css\" >\n",
       "    #T_53afe47a_4676_11ea_8d7c_f83441d5a916 thead th {\n",
       "          background-color: white;\n",
       "    }</style><table id=\"T_53afe47a_4676_11ea_8d7c_f83441d5a916\" ><thead>    <tr>        <th class=\"blank level0\" ></th>        <th class=\"col_heading level0 col0\" >alpha</th>        <th class=\"col_heading level0 col1\" >beta</th>        <th class=\"col_heading level0 col2\" >gamma</th>        <th class=\"col_heading level0 col3\" >delta</th>    </tr></thead><tbody>\n",
       "                <tr>\n",
       "                        <th id=\"T_53afe47a_4676_11ea_8d7c_f83441d5a916level0_row0\" class=\"row_heading level0 row0\" >0</th>\n",
       "                        <td id=\"T_53afe47a_4676_11ea_8d7c_f83441d5a916row0_col0\" class=\"data row0 col0\" >0.439248</td>\n",
       "                        <td id=\"T_53afe47a_4676_11ea_8d7c_f83441d5a916row0_col1\" class=\"data row0 col1\" >0.301847</td>\n",
       "                        <td id=\"T_53afe47a_4676_11ea_8d7c_f83441d5a916row0_col2\" class=\"data row0 col2\" >0.476285</td>\n",
       "                        <td id=\"T_53afe47a_4676_11ea_8d7c_f83441d5a916row0_col3\" class=\"data row0 col3\" >0.476832</td>\n",
       "            </tr>\n",
       "            <tr>\n",
       "                        <th id=\"T_53afe47a_4676_11ea_8d7c_f83441d5a916level0_row1\" class=\"row_heading level0 row1\" >1</th>\n",
       "                        <td id=\"T_53afe47a_4676_11ea_8d7c_f83441d5a916row1_col0\" class=\"data row1 col0\" >0.279530</td>\n",
       "                        <td id=\"T_53afe47a_4676_11ea_8d7c_f83441d5a916row1_col1\" class=\"data row1 col1\" >0.181878</td>\n",
       "                        <td id=\"T_53afe47a_4676_11ea_8d7c_f83441d5a916row1_col2\" class=\"data row1 col2\" >0.453116</td>\n",
       "                        <td id=\"T_53afe47a_4676_11ea_8d7c_f83441d5a916row1_col3\" class=\"data row1 col3\" >0.355821</td>\n",
       "            </tr>\n",
       "            <tr>\n",
       "                        <th id=\"T_53afe47a_4676_11ea_8d7c_f83441d5a916level0_row2\" class=\"row_heading level0 row2\" >2</th>\n",
       "                        <td id=\"T_53afe47a_4676_11ea_8d7c_f83441d5a916row2_col0\" class=\"data row2 col0\" >0.219092</td>\n",
       "                        <td id=\"T_53afe47a_4676_11ea_8d7c_f83441d5a916row2_col1\" class=\"data row2 col1\" >0.432632</td>\n",
       "                        <td id=\"T_53afe47a_4676_11ea_8d7c_f83441d5a916row2_col2\" class=\"data row2 col2\" >0.051893</td>\n",
       "                        <td id=\"T_53afe47a_4676_11ea_8d7c_f83441d5a916row2_col3\" class=\"data row2 col3\" >0.417192</td>\n",
       "            </tr>\n",
       "    </tbody></table>"
      ],
      "text/plain": [
       "      alpha      beta     gamma     delta\n",
       "0  0.439248  0.301847  0.476285  0.476832\n",
       "1  0.279530  0.181878  0.453116  0.355821\n",
       "2  0.219092  0.432632  0.051893  0.417192"
      ]
     },
     "execution_count": 27,
     "metadata": {},
     "output_type": "execute_result"
    }
   ],
   "source": [
    "(df / 2)"
   ]
  },
  {
   "cell_type": "code",
   "execution_count": 26,
   "metadata": {},
   "outputs": [
    {
     "data": {
      "text/plain": [
       "'white'"
      ]
     },
     "execution_count": 26,
     "metadata": {},
     "output_type": "execute_result"
    }
   ],
   "source": [
    "(df / 2).colour"
   ]
  }
 ],
 "metadata": {
  "kernelspec": {
   "display_name": "Python 3",
   "language": "python",
   "name": "python3"
  },
  "language_info": {
   "codemirror_mode": {
    "name": "ipython",
    "version": 3
   },
   "file_extension": ".py",
   "mimetype": "text/x-python",
   "name": "python",
   "nbconvert_exporter": "python",
   "pygments_lexer": "ipython3",
   "version": "3.7.3"
  }
 },
 "nbformat": 4,
 "nbformat_minor": 2
}
