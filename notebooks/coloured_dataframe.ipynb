{
 "cells": [
  {
   "cell_type": "markdown",
   "metadata": {},
   "source": [
    "# Coloured DataFrame\n",
    "\n",
    "Example of inheriting from pandas DataFrame"
   ]
  },
  {
   "cell_type": "code",
   "execution_count": 2,
   "metadata": {},
   "outputs": [],
   "source": [
    "import pandas as pd\n",
    "import numpy as np"
   ]
  },
  {
   "cell_type": "code",
   "execution_count": 5,
   "metadata": {},
   "outputs": [],
   "source": [
    "class ColouredDataFrame(pd.DataFrame):\n",
    "    \"\"\"Class with coloured header.\"\"\"\n",
    "    def __init__(self, *args, colour=\"white\", **kwargs):        \n",
    "        super(ColouredDataFrame, self).__init__(*args, **kwargs)\n",
    "        self.colour = colour\n",
    "        \n",
    "    _metadata = ['colour']\n",
    "    \n",
    "    @property\n",
    "    def style_props(self):\n",
    "        \"\"\"Custom CSS values for this table.\"\"\"\n",
    "        return [\n",
    "            {'selector': 'thead th',\n",
    "             'props': [('background-color', self.colour)]}]\n",
    "        \n",
    "    def to_html(self, *args, **kwargs):\n",
    "        \"\"\"Used among others in Jupyter notebook.\"\"\"\n",
    "        return self.style.set_table_styles(\n",
    "            self.style_props).render()\n",
    "    \n",
    "    @property\n",
    "    def _constructor(self):        \n",
    "        return ColouredDataFrame\n",
    "    \n",
    "    # If you want to subclass Series too:   \n",
    "    # @property\n",
    "    # def _constructor_sliced(self)\n",
    "    \n",
    "    def set_colour(self, colour):\n",
    "        copy = self.copy()\n",
    "        copy.colour = colour\n",
    "        return copy"
   ]
  },
  {
   "cell_type": "code",
   "execution_count": 6,
   "metadata": {},
   "outputs": [
    {
     "data": {
      "text/html": [
       "<style  type=\"text/css\" >\n",
       "    #T_2660cda2_8c90_11e9_b262_3010b3a6a546 thead th {\n",
       "          background-color: gold;\n",
       "    }</style><table id=\"T_2660cda2_8c90_11e9_b262_3010b3a6a546\" ><thead>    <tr>        <th class=\"blank level0\" ></th>        <th class=\"col_heading level0 col0\" >alpha</th>        <th class=\"col_heading level0 col1\" >beta</th>        <th class=\"col_heading level0 col2\" >gamma</th>        <th class=\"col_heading level0 col3\" >delta</th>    </tr></thead><tbody>\n",
       "                <tr>\n",
       "                        <th id=\"T_2660cda2_8c90_11e9_b262_3010b3a6a546level0_row0\" class=\"row_heading level0 row0\" >0</th>\n",
       "                        <td id=\"T_2660cda2_8c90_11e9_b262_3010b3a6a546row0_col0\" class=\"data row0 col0\" >0.0953569</td>\n",
       "                        <td id=\"T_2660cda2_8c90_11e9_b262_3010b3a6a546row0_col1\" class=\"data row0 col1\" >0.422161</td>\n",
       "                        <td id=\"T_2660cda2_8c90_11e9_b262_3010b3a6a546row0_col2\" class=\"data row0 col2\" >0.139219</td>\n",
       "                        <td id=\"T_2660cda2_8c90_11e9_b262_3010b3a6a546row0_col3\" class=\"data row0 col3\" >0.646221</td>\n",
       "            </tr>\n",
       "            <tr>\n",
       "                        <th id=\"T_2660cda2_8c90_11e9_b262_3010b3a6a546level0_row1\" class=\"row_heading level0 row1\" >1</th>\n",
       "                        <td id=\"T_2660cda2_8c90_11e9_b262_3010b3a6a546row1_col0\" class=\"data row1 col0\" >0.994023</td>\n",
       "                        <td id=\"T_2660cda2_8c90_11e9_b262_3010b3a6a546row1_col1\" class=\"data row1 col1\" >0.152894</td>\n",
       "                        <td id=\"T_2660cda2_8c90_11e9_b262_3010b3a6a546row1_col2\" class=\"data row1 col2\" >0.341998</td>\n",
       "                        <td id=\"T_2660cda2_8c90_11e9_b262_3010b3a6a546row1_col3\" class=\"data row1 col3\" >0.400648</td>\n",
       "            </tr>\n",
       "            <tr>\n",
       "                        <th id=\"T_2660cda2_8c90_11e9_b262_3010b3a6a546level0_row2\" class=\"row_heading level0 row2\" >2</th>\n",
       "                        <td id=\"T_2660cda2_8c90_11e9_b262_3010b3a6a546row2_col0\" class=\"data row2 col0\" >0.492175</td>\n",
       "                        <td id=\"T_2660cda2_8c90_11e9_b262_3010b3a6a546row2_col1\" class=\"data row2 col1\" >0.571115</td>\n",
       "                        <td id=\"T_2660cda2_8c90_11e9_b262_3010b3a6a546row2_col2\" class=\"data row2 col2\" >0.0974603</td>\n",
       "                        <td id=\"T_2660cda2_8c90_11e9_b262_3010b3a6a546row2_col3\" class=\"data row2 col3\" >0.615323</td>\n",
       "            </tr>\n",
       "    </tbody></table>"
      ],
      "text/plain": [
       "      alpha      beta     gamma     delta\n",
       "0  0.095357  0.422161  0.139219  0.646221\n",
       "1  0.994023  0.152894  0.341998  0.400648\n",
       "2  0.492175  0.571115  0.097460  0.615323"
      ]
     },
     "execution_count": 6,
     "metadata": {},
     "output_type": "execute_result"
    }
   ],
   "source": [
    "df = ColouredDataFrame({\n",
    "    \"alpha\": pd.Series(np.random.random(3)),\n",
    "    \"beta\": pd.Series(np.random.random(3)),\n",
    "    \"gamma\": pd.Series(np.random.random(3)),\n",
    "    \"delta\": pd.Series(np.random.random(3)),\n",
    "},\n",
    "    colour = \"gold\"\n",
    ")\n",
    "df"
   ]
  },
  {
   "cell_type": "code",
   "execution_count": 7,
   "metadata": {},
   "outputs": [
    {
     "data": {
      "text/html": [
       "<style  type=\"text/css\" >\n",
       "    #T_27d77048_8c90_11e9_8ff2_3010b3a6a546 thead th {\n",
       "          background-color: orange;\n",
       "    }</style><table id=\"T_27d77048_8c90_11e9_8ff2_3010b3a6a546\" ><thead>    <tr>        <th class=\"blank level0\" ></th>        <th class=\"col_heading level0 col0\" >alpha</th>        <th class=\"col_heading level0 col1\" >beta</th>        <th class=\"col_heading level0 col2\" >gamma</th>        <th class=\"col_heading level0 col3\" >delta</th>    </tr></thead><tbody>\n",
       "                <tr>\n",
       "                        <th id=\"T_27d77048_8c90_11e9_8ff2_3010b3a6a546level0_row0\" class=\"row_heading level0 row0\" >0</th>\n",
       "                        <td id=\"T_27d77048_8c90_11e9_8ff2_3010b3a6a546row0_col0\" class=\"data row0 col0\" >0.0953569</td>\n",
       "                        <td id=\"T_27d77048_8c90_11e9_8ff2_3010b3a6a546row0_col1\" class=\"data row0 col1\" >0.422161</td>\n",
       "                        <td id=\"T_27d77048_8c90_11e9_8ff2_3010b3a6a546row0_col2\" class=\"data row0 col2\" >0.139219</td>\n",
       "                        <td id=\"T_27d77048_8c90_11e9_8ff2_3010b3a6a546row0_col3\" class=\"data row0 col3\" >0.646221</td>\n",
       "            </tr>\n",
       "            <tr>\n",
       "                        <th id=\"T_27d77048_8c90_11e9_8ff2_3010b3a6a546level0_row1\" class=\"row_heading level0 row1\" >1</th>\n",
       "                        <td id=\"T_27d77048_8c90_11e9_8ff2_3010b3a6a546row1_col0\" class=\"data row1 col0\" >0.994023</td>\n",
       "                        <td id=\"T_27d77048_8c90_11e9_8ff2_3010b3a6a546row1_col1\" class=\"data row1 col1\" >0.152894</td>\n",
       "                        <td id=\"T_27d77048_8c90_11e9_8ff2_3010b3a6a546row1_col2\" class=\"data row1 col2\" >0.341998</td>\n",
       "                        <td id=\"T_27d77048_8c90_11e9_8ff2_3010b3a6a546row1_col3\" class=\"data row1 col3\" >0.400648</td>\n",
       "            </tr>\n",
       "            <tr>\n",
       "                        <th id=\"T_27d77048_8c90_11e9_8ff2_3010b3a6a546level0_row2\" class=\"row_heading level0 row2\" >2</th>\n",
       "                        <td id=\"T_27d77048_8c90_11e9_8ff2_3010b3a6a546row2_col0\" class=\"data row2 col0\" >0.492175</td>\n",
       "                        <td id=\"T_27d77048_8c90_11e9_8ff2_3010b3a6a546row2_col1\" class=\"data row2 col1\" >0.571115</td>\n",
       "                        <td id=\"T_27d77048_8c90_11e9_8ff2_3010b3a6a546row2_col2\" class=\"data row2 col2\" >0.0974603</td>\n",
       "                        <td id=\"T_27d77048_8c90_11e9_8ff2_3010b3a6a546row2_col3\" class=\"data row2 col3\" >0.615323</td>\n",
       "            </tr>\n",
       "    </tbody></table>"
      ],
      "text/plain": [
       "      alpha      beta     gamma     delta\n",
       "0  0.095357  0.422161  0.139219  0.646221\n",
       "1  0.994023  0.152894  0.341998  0.400648\n",
       "2  0.492175  0.571115  0.097460  0.615323"
      ]
     },
     "execution_count": 7,
     "metadata": {},
     "output_type": "execute_result"
    }
   ],
   "source": [
    "df.set_colour(\"orange\")"
   ]
  },
  {
   "cell_type": "code",
   "execution_count": 8,
   "metadata": {},
   "outputs": [
    {
     "data": {
      "text/html": [
       "<style  type=\"text/css\" >\n",
       "    #T_2876c898_8c90_11e9_bc12_3010b3a6a546 thead th {\n",
       "          background-color: #8f8;\n",
       "    }</style><table id=\"T_2876c898_8c90_11e9_bc12_3010b3a6a546\" ><thead>    <tr>        <th class=\"blank level0\" ></th>        <th class=\"col_heading level0 col0\" >alpha</th>        <th class=\"col_heading level0 col1\" >gamma</th>    </tr></thead><tbody>\n",
       "                <tr>\n",
       "                        <th id=\"T_2876c898_8c90_11e9_bc12_3010b3a6a546level0_row0\" class=\"row_heading level0 row0\" >0</th>\n",
       "                        <td id=\"T_2876c898_8c90_11e9_bc12_3010b3a6a546row0_col0\" class=\"data row0 col0\" >0.0953569</td>\n",
       "                        <td id=\"T_2876c898_8c90_11e9_bc12_3010b3a6a546row0_col1\" class=\"data row0 col1\" >0.139219</td>\n",
       "            </tr>\n",
       "            <tr>\n",
       "                        <th id=\"T_2876c898_8c90_11e9_bc12_3010b3a6a546level0_row1\" class=\"row_heading level0 row1\" >1</th>\n",
       "                        <td id=\"T_2876c898_8c90_11e9_bc12_3010b3a6a546row1_col0\" class=\"data row1 col0\" >0.994023</td>\n",
       "                        <td id=\"T_2876c898_8c90_11e9_bc12_3010b3a6a546row1_col1\" class=\"data row1 col1\" >0.341998</td>\n",
       "            </tr>\n",
       "            <tr>\n",
       "                        <th id=\"T_2876c898_8c90_11e9_bc12_3010b3a6a546level0_row2\" class=\"row_heading level0 row2\" >2</th>\n",
       "                        <td id=\"T_2876c898_8c90_11e9_bc12_3010b3a6a546row2_col0\" class=\"data row2 col0\" >0.492175</td>\n",
       "                        <td id=\"T_2876c898_8c90_11e9_bc12_3010b3a6a546row2_col1\" class=\"data row2 col1\" >0.0974603</td>\n",
       "            </tr>\n",
       "    </tbody></table>"
      ],
      "text/plain": [
       "      alpha     gamma\n",
       "0  0.095357  0.139219\n",
       "1  0.994023  0.341998\n",
       "2  0.492175  0.097460"
      ]
     },
     "execution_count": 8,
     "metadata": {},
     "output_type": "execute_result"
    }
   ],
   "source": [
    "df[[\"alpha\", \"gamma\"]].set_colour(\"#8f8\")"
   ]
  },
  {
   "cell_type": "code",
   "execution_count": null,
   "metadata": {},
   "outputs": [],
   "source": []
  }
 ],
 "metadata": {
  "kernelspec": {
   "display_name": "Python 3",
   "language": "python",
   "name": "python3"
  },
  "language_info": {
   "codemirror_mode": {
    "name": "ipython",
    "version": 3
   },
   "file_extension": ".py",
   "mimetype": "text/x-python",
   "name": "python",
   "nbconvert_exporter": "python",
   "pygments_lexer": "ipython3",
   "version": "3.7.3"
  }
 },
 "nbformat": 4,
 "nbformat_minor": 2
}
