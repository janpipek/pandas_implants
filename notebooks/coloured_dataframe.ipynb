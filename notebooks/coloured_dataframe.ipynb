{
 "cells": [
  {
   "cell_type": "markdown",
   "metadata": {},
   "source": [
    "# Coloured DataFrame\n",
    "\n",
    "Example of inheriting from pandas DataFrame"
   ]
  },
  {
   "cell_type": "code",
   "execution_count": 1,
   "metadata": {},
   "outputs": [],
   "source": [
    "import pandas as pd\n",
    "import numpy as np"
   ]
  },
  {
   "cell_type": "code",
   "execution_count": 2,
   "metadata": {},
   "outputs": [],
   "source": [
    "class ColouredDataFrame(pd.DataFrame):\n",
    "    \"\"\"Class with coloured header.\"\"\"\n",
    "    def __init__(self, *args, colour=\"white\", **kwargs):        \n",
    "        super(ColouredDataFrame, self).__init__(*args, **kwargs)\n",
    "        self.colour = colour\n",
    "        \n",
    "    _metadata = ['colour']\n",
    "    \n",
    "    @property\n",
    "    def style_props(self):\n",
    "        \"\"\"Custom CSS values for this table.\"\"\"\n",
    "        return [\n",
    "            {'selector': 'thead th',\n",
    "             'props': [('background-color', self.colour)]}]\n",
    "        \n",
    "    def _repr_html_(self):\n",
    "        \"\"\"Used among others in Jupyter notebook.\"\"\"\n",
    "        return self.style.set_table_styles(\n",
    "            self.style_props).render()\n",
    "    \n",
    "    # def to_html(self, *args, **kwargs):\n",
    "    #   You might want to set this too\n",
    "    \n",
    "    @property\n",
    "    def _constructor(self):        \n",
    "        return ColouredDataFrame\n",
    "    \n",
    "    # If you want to subclass Series too:   \n",
    "    # @property\n",
    "    # def _constructor_sliced(self)\n",
    "    \n",
    "    def set_colour(self, colour):\n",
    "        copy = self.copy()\n",
    "        copy.colour = colour\n",
    "        return copy"
   ]
  },
  {
   "cell_type": "code",
   "execution_count": 3,
   "metadata": {},
   "outputs": [],
   "source": [
    "df = ColouredDataFrame({\n",
    "    \"alpha\": pd.Series(np.random.random(3)),\n",
    "    \"beta\": pd.Series(np.random.random(3)),\n",
    "    \"gamma\": pd.Series(np.random.random(3)),\n",
    "    \"delta\": pd.Series(np.random.random(3)),\n",
    "},\n",
    "    colour = \"gold\"\n",
    ")"
   ]
  },
  {
   "cell_type": "code",
   "execution_count": 4,
   "metadata": {},
   "outputs": [
    {
     "data": {
      "text/html": [
       "<style  type=\"text/css\" >\n",
       "    #T_a1ba1f3e_4667_11ea_8eb1_f83441d5a916 thead th {\n",
       "          background-color: orange;\n",
       "    }</style><table id=\"T_a1ba1f3e_4667_11ea_8eb1_f83441d5a916\" ><thead>    <tr>        <th class=\"blank level0\" ></th>        <th class=\"col_heading level0 col0\" >alpha</th>        <th class=\"col_heading level0 col1\" >beta</th>        <th class=\"col_heading level0 col2\" >gamma</th>        <th class=\"col_heading level0 col3\" >delta</th>    </tr></thead><tbody>\n",
       "                <tr>\n",
       "                        <th id=\"T_a1ba1f3e_4667_11ea_8eb1_f83441d5a916level0_row0\" class=\"row_heading level0 row0\" >0</th>\n",
       "                        <td id=\"T_a1ba1f3e_4667_11ea_8eb1_f83441d5a916row0_col0\" class=\"data row0 col0\" >0.562513</td>\n",
       "                        <td id=\"T_a1ba1f3e_4667_11ea_8eb1_f83441d5a916row0_col1\" class=\"data row0 col1\" >0.369629</td>\n",
       "                        <td id=\"T_a1ba1f3e_4667_11ea_8eb1_f83441d5a916row0_col2\" class=\"data row0 col2\" >0.486632</td>\n",
       "                        <td id=\"T_a1ba1f3e_4667_11ea_8eb1_f83441d5a916row0_col3\" class=\"data row0 col3\" >0.42282</td>\n",
       "            </tr>\n",
       "            <tr>\n",
       "                        <th id=\"T_a1ba1f3e_4667_11ea_8eb1_f83441d5a916level0_row1\" class=\"row_heading level0 row1\" >1</th>\n",
       "                        <td id=\"T_a1ba1f3e_4667_11ea_8eb1_f83441d5a916row1_col0\" class=\"data row1 col0\" >0.015042</td>\n",
       "                        <td id=\"T_a1ba1f3e_4667_11ea_8eb1_f83441d5a916row1_col1\" class=\"data row1 col1\" >0.592151</td>\n",
       "                        <td id=\"T_a1ba1f3e_4667_11ea_8eb1_f83441d5a916row1_col2\" class=\"data row1 col2\" >0.775803</td>\n",
       "                        <td id=\"T_a1ba1f3e_4667_11ea_8eb1_f83441d5a916row1_col3\" class=\"data row1 col3\" >0.971119</td>\n",
       "            </tr>\n",
       "            <tr>\n",
       "                        <th id=\"T_a1ba1f3e_4667_11ea_8eb1_f83441d5a916level0_row2\" class=\"row_heading level0 row2\" >2</th>\n",
       "                        <td id=\"T_a1ba1f3e_4667_11ea_8eb1_f83441d5a916row2_col0\" class=\"data row2 col0\" >0.437775</td>\n",
       "                        <td id=\"T_a1ba1f3e_4667_11ea_8eb1_f83441d5a916row2_col1\" class=\"data row2 col1\" >0.875282</td>\n",
       "                        <td id=\"T_a1ba1f3e_4667_11ea_8eb1_f83441d5a916row2_col2\" class=\"data row2 col2\" >0.600933</td>\n",
       "                        <td id=\"T_a1ba1f3e_4667_11ea_8eb1_f83441d5a916row2_col3\" class=\"data row2 col3\" >0.892473</td>\n",
       "            </tr>\n",
       "    </tbody></table>"
      ],
      "text/plain": [
       "      alpha      beta     gamma     delta\n",
       "0  0.562513  0.369629  0.486632  0.422820\n",
       "1  0.015042  0.592151  0.775803  0.971119\n",
       "2  0.437775  0.875282  0.600933  0.892473"
      ]
     },
     "execution_count": 4,
     "metadata": {},
     "output_type": "execute_result"
    }
   ],
   "source": [
    "df.set_colour(\"orange\")"
   ]
  },
  {
   "cell_type": "code",
   "execution_count": 5,
   "metadata": {},
   "outputs": [
    {
     "data": {
      "text/html": [
       "<style  type=\"text/css\" >\n",
       "    #T_a1bc18ba_4667_11ea_96d8_f83441d5a916 thead th {\n",
       "          background-color: #8f8;\n",
       "    }</style><table id=\"T_a1bc18ba_4667_11ea_96d8_f83441d5a916\" ><thead>    <tr>        <th class=\"blank level0\" ></th>        <th class=\"col_heading level0 col0\" >alpha</th>        <th class=\"col_heading level0 col1\" >gamma</th>    </tr></thead><tbody>\n",
       "                <tr>\n",
       "                        <th id=\"T_a1bc18ba_4667_11ea_96d8_f83441d5a916level0_row0\" class=\"row_heading level0 row0\" >0</th>\n",
       "                        <td id=\"T_a1bc18ba_4667_11ea_96d8_f83441d5a916row0_col0\" class=\"data row0 col0\" >0.562513</td>\n",
       "                        <td id=\"T_a1bc18ba_4667_11ea_96d8_f83441d5a916row0_col1\" class=\"data row0 col1\" >0.486632</td>\n",
       "            </tr>\n",
       "            <tr>\n",
       "                        <th id=\"T_a1bc18ba_4667_11ea_96d8_f83441d5a916level0_row1\" class=\"row_heading level0 row1\" >1</th>\n",
       "                        <td id=\"T_a1bc18ba_4667_11ea_96d8_f83441d5a916row1_col0\" class=\"data row1 col0\" >0.015042</td>\n",
       "                        <td id=\"T_a1bc18ba_4667_11ea_96d8_f83441d5a916row1_col1\" class=\"data row1 col1\" >0.775803</td>\n",
       "            </tr>\n",
       "            <tr>\n",
       "                        <th id=\"T_a1bc18ba_4667_11ea_96d8_f83441d5a916level0_row2\" class=\"row_heading level0 row2\" >2</th>\n",
       "                        <td id=\"T_a1bc18ba_4667_11ea_96d8_f83441d5a916row2_col0\" class=\"data row2 col0\" >0.437775</td>\n",
       "                        <td id=\"T_a1bc18ba_4667_11ea_96d8_f83441d5a916row2_col1\" class=\"data row2 col1\" >0.600933</td>\n",
       "            </tr>\n",
       "    </tbody></table>"
      ],
      "text/plain": [
       "      alpha     gamma\n",
       "0  0.562513  0.486632\n",
       "1  0.015042  0.775803\n",
       "2  0.437775  0.600933"
      ]
     },
     "execution_count": 5,
     "metadata": {},
     "output_type": "execute_result"
    }
   ],
   "source": [
    "df[[\"alpha\", \"gamma\"]].set_colour(\"#8f8\")"
   ]
  }
 ],
 "metadata": {
  "kernelspec": {
   "display_name": "Python 3",
   "language": "python",
   "name": "python3"
  },
  "language_info": {
   "codemirror_mode": {
    "name": "ipython",
    "version": 3
   },
   "file_extension": ".py",
   "mimetype": "text/x-python",
   "name": "python",
   "nbconvert_exporter": "python",
   "pygments_lexer": "ipython3",
   "version": "3.7.3"
  }
 },
 "nbformat": 4,
 "nbformat_minor": 2
}
