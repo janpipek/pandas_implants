{
 "cells": [
  {
   "cell_type": "markdown",
   "metadata": {},
   "source": [
    "# Accessor examples"
   ]
  },
  {
   "cell_type": "markdown",
   "metadata": {},
   "source": [
    "## Series"
   ]
  },
  {
   "cell_type": "code",
   "execution_count": 1,
   "metadata": {},
   "outputs": [],
   "source": [
    "import pandas as pd\n",
    "import numpy as np"
   ]
  },
  {
   "cell_type": "code",
   "execution_count": 2,
   "metadata": {},
   "outputs": [],
   "source": [
    "PANDA = u\"\\U0001F43C\""
   ]
  },
  {
   "cell_type": "code",
   "execution_count": 3,
   "metadata": {},
   "outputs": [],
   "source": [
    "@pd.api.extensions.register_series_accessor(\"panda\")\n",
    "class PandaSeriesAccessor:\n",
    "    def __init__(self, data):\n",
    "        if data.dtype.kind != \"i\":\n",
    "            raise AttributeError\n",
    "        self.data = data\n",
    "        \n",
    "    def render(self):\n",
    "        return self.data.apply(lambda x: x * PANDA)"
   ]
  },
  {
   "cell_type": "code",
   "execution_count": 4,
   "metadata": {},
   "outputs": [
    {
     "data": {
      "text/html": [
       "<div>\n",
       "<style scoped>\n",
       "    .dataframe tbody tr th:only-of-type {\n",
       "        vertical-align: middle;\n",
       "    }\n",
       "\n",
       "    .dataframe tbody tr th {\n",
       "        vertical-align: top;\n",
       "    }\n",
       "\n",
       "    .dataframe thead th {\n",
       "        text-align: right;\n",
       "    }\n",
       "</style>\n",
       "<table border=\"1\" class=\"dataframe\">\n",
       "  <thead>\n",
       "    <tr style=\"text-align: right;\">\n",
       "      <th></th>\n",
       "      <th>count</th>\n",
       "    </tr>\n",
       "  </thead>\n",
       "  <tbody>\n",
       "    <tr>\n",
       "      <th>0</th>\n",
       "      <td>5</td>\n",
       "    </tr>\n",
       "    <tr>\n",
       "      <th>1</th>\n",
       "      <td>4</td>\n",
       "    </tr>\n",
       "    <tr>\n",
       "      <th>2</th>\n",
       "      <td>1</td>\n",
       "    </tr>\n",
       "    <tr>\n",
       "      <th>3</th>\n",
       "      <td>6</td>\n",
       "    </tr>\n",
       "  </tbody>\n",
       "</table>\n",
       "</div>"
      ],
      "text/plain": [
       "   count\n",
       "0      5\n",
       "1      4\n",
       "2      1\n",
       "3      6"
      ]
     },
     "execution_count": 4,
     "metadata": {},
     "output_type": "execute_result"
    }
   ],
   "source": [
    "df = pd.DataFrame({\"count\": pd.Series([5, 4, 1, 6])})\n",
    "df"
   ]
  },
  {
   "cell_type": "code",
   "execution_count": 5,
   "metadata": {},
   "outputs": [
    {
     "data": {
      "text/html": [
       "<div>\n",
       "<style scoped>\n",
       "    .dataframe tbody tr th:only-of-type {\n",
       "        vertical-align: middle;\n",
       "    }\n",
       "\n",
       "    .dataframe tbody tr th {\n",
       "        vertical-align: top;\n",
       "    }\n",
       "\n",
       "    .dataframe thead th {\n",
       "        text-align: right;\n",
       "    }\n",
       "</style>\n",
       "<table border=\"1\" class=\"dataframe\">\n",
       "  <thead>\n",
       "    <tr style=\"text-align: right;\">\n",
       "      <th></th>\n",
       "      <th>count</th>\n",
       "      <th>pandas</th>\n",
       "    </tr>\n",
       "  </thead>\n",
       "  <tbody>\n",
       "    <tr>\n",
       "      <th>0</th>\n",
       "      <td>5</td>\n",
       "      <td>🐼🐼🐼🐼🐼</td>\n",
       "    </tr>\n",
       "    <tr>\n",
       "      <th>1</th>\n",
       "      <td>4</td>\n",
       "      <td>🐼🐼🐼🐼</td>\n",
       "    </tr>\n",
       "    <tr>\n",
       "      <th>2</th>\n",
       "      <td>1</td>\n",
       "      <td>🐼</td>\n",
       "    </tr>\n",
       "    <tr>\n",
       "      <th>3</th>\n",
       "      <td>6</td>\n",
       "      <td>🐼🐼🐼🐼🐼🐼</td>\n",
       "    </tr>\n",
       "  </tbody>\n",
       "</table>\n",
       "</div>"
      ],
      "text/plain": [
       "   count  pandas\n",
       "0      5   🐼🐼🐼🐼🐼\n",
       "1      4    🐼🐼🐼🐼\n",
       "2      1       🐼\n",
       "3      6  🐼🐼🐼🐼🐼🐼"
      ]
     },
     "execution_count": 5,
     "metadata": {},
     "output_type": "execute_result"
    }
   ],
   "source": [
    "df.assign(pandas=df[\"count\"].panda.render())"
   ]
  },
  {
   "cell_type": "markdown",
   "metadata": {},
   "source": [
    "## DataFrame"
   ]
  },
  {
   "cell_type": "code",
   "execution_count": 6,
   "metadata": {},
   "outputs": [],
   "source": [
    "@pd.api.extensions.register_dataframe_accessor(\"panda\")\n",
    "class PandaDFAccessor:\n",
    "    def __init__(self, data):\n",
    "        self.data = data\n",
    "        \n",
    "    def invade(self):\n",
    "        \"\"\"Replaces all df content with random pandas.\"\"\"\n",
    "        new_df = self.data.copy()\n",
    "        columns = new_df.columns\n",
    "        for column in columns:\n",
    "            new_df[column] = pd.Series(np.random.randint(5, size=self.data.shape[0])).panda.render()\n",
    "        new_df.columns = [PANDA] * len(columns)\n",
    "        new_df.index = [PANDA] * new_df.shape[0]\n",
    "        return new_df"
   ]
  },
  {
   "cell_type": "code",
   "execution_count": 7,
   "metadata": {},
   "outputs": [
    {
     "data": {
      "text/html": [
       "<div>\n",
       "<style scoped>\n",
       "    .dataframe tbody tr th:only-of-type {\n",
       "        vertical-align: middle;\n",
       "    }\n",
       "\n",
       "    .dataframe tbody tr th {\n",
       "        vertical-align: top;\n",
       "    }\n",
       "\n",
       "    .dataframe thead th {\n",
       "        text-align: right;\n",
       "    }\n",
       "</style>\n",
       "<table border=\"1\" class=\"dataframe\">\n",
       "  <thead>\n",
       "    <tr style=\"text-align: right;\">\n",
       "      <th></th>\n",
       "      <th>alpha</th>\n",
       "      <th>beta</th>\n",
       "      <th>gamma</th>\n",
       "      <th>delta</th>\n",
       "    </tr>\n",
       "  </thead>\n",
       "  <tbody>\n",
       "    <tr>\n",
       "      <th>0</th>\n",
       "      <td>0.599806</td>\n",
       "      <td>0.432169</td>\n",
       "      <td>0.169833</td>\n",
       "      <td>0.421499</td>\n",
       "    </tr>\n",
       "    <tr>\n",
       "      <th>1</th>\n",
       "      <td>0.658191</td>\n",
       "      <td>0.260441</td>\n",
       "      <td>0.662549</td>\n",
       "      <td>0.796003</td>\n",
       "    </tr>\n",
       "    <tr>\n",
       "      <th>2</th>\n",
       "      <td>0.585770</td>\n",
       "      <td>0.347680</td>\n",
       "      <td>0.493083</td>\n",
       "      <td>0.943206</td>\n",
       "    </tr>\n",
       "  </tbody>\n",
       "</table>\n",
       "</div>"
      ],
      "text/plain": [
       "      alpha      beta     gamma     delta\n",
       "0  0.599806  0.432169  0.169833  0.421499\n",
       "1  0.658191  0.260441  0.662549  0.796003\n",
       "2  0.585770  0.347680  0.493083  0.943206"
      ]
     },
     "execution_count": 7,
     "metadata": {},
     "output_type": "execute_result"
    }
   ],
   "source": [
    "df = pd.DataFrame({\n",
    "    \"alpha\": pd.Series(np.random.random(3)),\n",
    "    \"beta\": pd.Series(np.random.random(3)),\n",
    "    \"gamma\": pd.Series(np.random.random(3)),\n",
    "    \"delta\": pd.Series(np.random.random(3)),\n",
    "})\n",
    "df.panda.invade()"
   ]
  },
  {
   "cell_type": "code",
   "execution_count": 8,
   "metadata": {},
   "outputs": [
    {
     "data": {
      "text/html": [
       "<div>\n",
       "<style scoped>\n",
       "    .dataframe tbody tr th:only-of-type {\n",
       "        vertical-align: middle;\n",
       "    }\n",
       "\n",
       "    .dataframe tbody tr th {\n",
       "        vertical-align: top;\n",
       "    }\n",
       "\n",
       "    .dataframe thead th {\n",
       "        text-align: right;\n",
       "    }\n",
       "</style>\n",
       "<table border=\"1\" class=\"dataframe\">\n",
       "  <thead>\n",
       "    <tr style=\"text-align: right;\">\n",
       "      <th></th>\n",
       "      <th>🐼</th>\n",
       "      <th>🐼</th>\n",
       "      <th>🐼</th>\n",
       "      <th>🐼</th>\n",
       "    </tr>\n",
       "  </thead>\n",
       "  <tbody>\n",
       "    <tr>\n",
       "      <th>🐼</th>\n",
       "      <td></td>\n",
       "      <td>🐼</td>\n",
       "      <td>🐼🐼🐼🐼</td>\n",
       "      <td>🐼🐼🐼🐼</td>\n",
       "    </tr>\n",
       "    <tr>\n",
       "      <th>🐼</th>\n",
       "      <td>🐼</td>\n",
       "      <td></td>\n",
       "      <td>🐼🐼🐼🐼</td>\n",
       "      <td></td>\n",
       "    </tr>\n",
       "    <tr>\n",
       "      <th>🐼</th>\n",
       "      <td></td>\n",
       "      <td>🐼🐼🐼🐼</td>\n",
       "      <td>🐼🐼</td>\n",
       "      <td>🐼</td>\n",
       "    </tr>\n",
       "  </tbody>\n",
       "</table>\n",
       "</div>"
      ],
      "text/plain": [
       "   🐼     🐼     🐼     🐼\n",
       "🐼        🐼  🐼🐼🐼🐼  🐼🐼🐼🐼\n",
       "🐼  🐼        🐼🐼🐼🐼      \n",
       "🐼     🐼🐼🐼🐼    🐼🐼     🐼"
      ]
     },
     "execution_count": 8,
     "metadata": {},
     "output_type": "execute_result"
    }
   ],
   "source": [
    "df.panda.invade()"
   ]
  },
  {
   "cell_type": "markdown",
   "metadata": {},
   "source": [
    "## Index"
   ]
  },
  {
   "cell_type": "code",
   "execution_count": 9,
   "metadata": {},
   "outputs": [],
   "source": [
    "@pd.api.extensions.register_index_accessor(\"panda\")\n",
    "class PandaIndexAccessor:\n",
    "    def __init__(self, data):\n",
    "        if not isinstance(data, pd.core.indexes.numeric.IntegerIndex):\n",
    "            raise AttributeError\n",
    "        self.data = data\n",
    "        \n",
    "    def make_friendly(self):\n",
    "        \"\"\"Replace all numbers in.\"\"\"\n",
    "        values = []\n",
    "        for i in self.data:\n",
    "            if i == 1:\n",
    "                values.append(\"1 panda\")\n",
    "            else:\n",
    "                values.append(f\"{i} pandas\")\n",
    "        new_index = pd.Index(values)\n",
    "        new_index.name = PANDA\n",
    "        return new_index"
   ]
  },
  {
   "cell_type": "code",
   "execution_count": 10,
   "metadata": {},
   "outputs": [
    {
     "data": {
      "text/html": [
       "<div>\n",
       "<style scoped>\n",
       "    .dataframe tbody tr th:only-of-type {\n",
       "        vertical-align: middle;\n",
       "    }\n",
       "\n",
       "    .dataframe tbody tr th {\n",
       "        vertical-align: top;\n",
       "    }\n",
       "\n",
       "    .dataframe thead th {\n",
       "        text-align: right;\n",
       "    }\n",
       "</style>\n",
       "<table border=\"1\" class=\"dataframe\">\n",
       "  <thead>\n",
       "    <tr style=\"text-align: right;\">\n",
       "      <th></th>\n",
       "      <th>alpha</th>\n",
       "      <th>beta</th>\n",
       "      <th>gamma</th>\n",
       "      <th>delta</th>\n",
       "    </tr>\n",
       "  </thead>\n",
       "  <tbody>\n",
       "    <tr>\n",
       "      <th>0</th>\n",
       "      <td>0.599806</td>\n",
       "      <td>0.432169</td>\n",
       "      <td>0.169833</td>\n",
       "      <td>0.421499</td>\n",
       "    </tr>\n",
       "    <tr>\n",
       "      <th>1</th>\n",
       "      <td>0.658191</td>\n",
       "      <td>0.260441</td>\n",
       "      <td>0.662549</td>\n",
       "      <td>0.796003</td>\n",
       "    </tr>\n",
       "    <tr>\n",
       "      <th>2</th>\n",
       "      <td>0.585770</td>\n",
       "      <td>0.347680</td>\n",
       "      <td>0.493083</td>\n",
       "      <td>0.943206</td>\n",
       "    </tr>\n",
       "  </tbody>\n",
       "</table>\n",
       "</div>"
      ],
      "text/plain": [
       "      alpha      beta     gamma     delta\n",
       "0  0.599806  0.432169  0.169833  0.421499\n",
       "1  0.658191  0.260441  0.662549  0.796003\n",
       "2  0.585770  0.347680  0.493083  0.943206"
      ]
     },
     "execution_count": 10,
     "metadata": {},
     "output_type": "execute_result"
    }
   ],
   "source": [
    "df"
   ]
  },
  {
   "cell_type": "code",
   "execution_count": 11,
   "metadata": {},
   "outputs": [
    {
     "data": {
      "text/html": [
       "<div>\n",
       "<style scoped>\n",
       "    .dataframe tbody tr th:only-of-type {\n",
       "        vertical-align: middle;\n",
       "    }\n",
       "\n",
       "    .dataframe tbody tr th {\n",
       "        vertical-align: top;\n",
       "    }\n",
       "\n",
       "    .dataframe thead th {\n",
       "        text-align: right;\n",
       "    }\n",
       "</style>\n",
       "<table border=\"1\" class=\"dataframe\">\n",
       "  <thead>\n",
       "    <tr style=\"text-align: right;\">\n",
       "      <th></th>\n",
       "      <th>alpha</th>\n",
       "      <th>beta</th>\n",
       "      <th>gamma</th>\n",
       "      <th>delta</th>\n",
       "    </tr>\n",
       "    <tr>\n",
       "      <th>🐼</th>\n",
       "      <th></th>\n",
       "      <th></th>\n",
       "      <th></th>\n",
       "      <th></th>\n",
       "    </tr>\n",
       "  </thead>\n",
       "  <tbody>\n",
       "    <tr>\n",
       "      <th>0 pandas</th>\n",
       "      <td>0.599806</td>\n",
       "      <td>0.432169</td>\n",
       "      <td>0.169833</td>\n",
       "      <td>0.421499</td>\n",
       "    </tr>\n",
       "    <tr>\n",
       "      <th>1 panda</th>\n",
       "      <td>0.658191</td>\n",
       "      <td>0.260441</td>\n",
       "      <td>0.662549</td>\n",
       "      <td>0.796003</td>\n",
       "    </tr>\n",
       "    <tr>\n",
       "      <th>2 pandas</th>\n",
       "      <td>0.585770</td>\n",
       "      <td>0.347680</td>\n",
       "      <td>0.493083</td>\n",
       "      <td>0.943206</td>\n",
       "    </tr>\n",
       "  </tbody>\n",
       "</table>\n",
       "</div>"
      ],
      "text/plain": [
       "             alpha      beta     gamma     delta\n",
       "🐼                                               \n",
       "0 pandas  0.599806  0.432169  0.169833  0.421499\n",
       "1 panda   0.658191  0.260441  0.662549  0.796003\n",
       "2 pandas  0.585770  0.347680  0.493083  0.943206"
      ]
     },
     "execution_count": 11,
     "metadata": {},
     "output_type": "execute_result"
    }
   ],
   "source": [
    "df.set_index(df.index.panda.make_friendly())"
   ]
  }
 ],
 "metadata": {
  "kernelspec": {
   "display_name": "Python 3",
   "language": "python",
   "name": "python3"
  },
  "language_info": {
   "codemirror_mode": {
    "name": "ipython",
    "version": 3
   },
   "file_extension": ".py",
   "mimetype": "text/x-python",
   "name": "python",
   "nbconvert_exporter": "python",
   "pygments_lexer": "ipython3",
   "version": "3.7.3"
  }
 },
 "nbformat": 4,
 "nbformat_minor": 2
}
